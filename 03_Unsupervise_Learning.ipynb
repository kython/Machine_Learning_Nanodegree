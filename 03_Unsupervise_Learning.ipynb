{
 "cells": [
  {
   "cell_type": "markdown",
   "metadata": {},
   "source": [
    "# 无监督学习 Unsupervise Learning\n",
    "## 聚类 Clustering\n",
    "### k-均值 k-means\n",
    "\n",
    "k-means 的步骤可概括为分配assign与优化optimize。\n",
    "1. 凭直觉（分为几类最合理），确定类别数目，即k的数值\n",
    "2. 随机初始化k个质心点\n",
    "3. 将离各质心点最近的数据划分到该质心所代表的类，实际操作就是做两两质心间的中垂线，中垂线一侧的数据归属为对应侧的质心点\n",
    "4. 根据所属质心的数据点的位置，更新质心点的位置，其实就是其所属质心类别的所有数据的位置的平均\n",
    "5. 重复步骤3和4，直到质心点变化小于预设值或达到预设的迭代次数\n",
    "\n",
    "#### k-均值的局限\n",
    "\n",
    "k-means属于局部爬山算法 Local Hill Climb Algorithm，质心的初始位置是非常重要的。这就导致一个训练集给出的训练结果可能会不同。\n",
    "\n",
    "解决的办法可以是，多试验几次随机分配的初始化质心位置。Andrew Ng 给出方法是随机选取 k 个样本本身的位置作为质心初始位置。"
   ]
  },
  {
   "cell_type": "markdown",
   "metadata": {
    "collapsed": true
   },
   "source": [
    "## 主成分分析 PCA"
   ]
  }
 ],
 "metadata": {
  "kernelspec": {
   "display_name": "Python [conda env:mlnd]",
   "language": "python",
   "name": "conda-env-mlnd-py"
  },
  "language_info": {
   "codemirror_mode": {
    "name": "ipython",
    "version": 2
   },
   "file_extension": ".py",
   "mimetype": "text/x-python",
   "name": "python",
   "nbconvert_exporter": "python",
   "pygments_lexer": "ipython2",
   "version": "2.7.13"
  }
 },
 "nbformat": 4,
 "nbformat_minor": 2
}
